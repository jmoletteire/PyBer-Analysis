{
 "cells": [
  {
   "cell_type": "code",
   "execution_count": 8,
   "outputs": [],
   "source": [
    "import matplotlib.pyplot as plt\n",
    "import numpy as np\n",
    "import pandas as pd\n",
    "import statistics as stats"
   ],
   "metadata": {
    "collapsed": false,
    "pycharm": {
     "name": "#%%\n"
    }
   }
  },
  {
   "cell_type": "code",
   "execution_count": 9,
   "outputs": [
    {
     "data": {
      "text/plain": "    Month  Avg. Fare ($USD)\n0     Jan             10.02\n1     Feb             23.24\n2     Mar             39.20\n3   April             35.42\n4     May             32.34\n5    June             27.04\n6    July             43.82\n7     Aug             10.56\n8    Sept             11.85\n9     Oct             27.90\n10    Nov             20.71\n11    Dec             20.09",
      "text/html": "<div>\n<style scoped>\n    .dataframe tbody tr th:only-of-type {\n        vertical-align: middle;\n    }\n\n    .dataframe tbody tr th {\n        vertical-align: top;\n    }\n\n    .dataframe thead th {\n        text-align: right;\n    }\n</style>\n<table border=\"1\" class=\"dataframe\">\n  <thead>\n    <tr style=\"text-align: right;\">\n      <th></th>\n      <th>Month</th>\n      <th>Avg. Fare ($USD)</th>\n    </tr>\n  </thead>\n  <tbody>\n    <tr>\n      <th>0</th>\n      <td>Jan</td>\n      <td>10.02</td>\n    </tr>\n    <tr>\n      <th>1</th>\n      <td>Feb</td>\n      <td>23.24</td>\n    </tr>\n    <tr>\n      <th>2</th>\n      <td>Mar</td>\n      <td>39.20</td>\n    </tr>\n    <tr>\n      <th>3</th>\n      <td>April</td>\n      <td>35.42</td>\n    </tr>\n    <tr>\n      <th>4</th>\n      <td>May</td>\n      <td>32.34</td>\n    </tr>\n    <tr>\n      <th>5</th>\n      <td>June</td>\n      <td>27.04</td>\n    </tr>\n    <tr>\n      <th>6</th>\n      <td>July</td>\n      <td>43.82</td>\n    </tr>\n    <tr>\n      <th>7</th>\n      <td>Aug</td>\n      <td>10.56</td>\n    </tr>\n    <tr>\n      <th>8</th>\n      <td>Sept</td>\n      <td>11.85</td>\n    </tr>\n    <tr>\n      <th>9</th>\n      <td>Oct</td>\n      <td>27.90</td>\n    </tr>\n    <tr>\n      <th>10</th>\n      <td>Nov</td>\n      <td>20.71</td>\n    </tr>\n    <tr>\n      <th>11</th>\n      <td>Dec</td>\n      <td>20.09</td>\n    </tr>\n  </tbody>\n</table>\n</div>"
     },
     "execution_count": 9,
     "metadata": {},
     "output_type": "execute_result"
    }
   ],
   "source": [
    "pyber_ride_df = pd.read_csv(\"./Resources/PyBer_ride_data.csv\")\n",
    "pyber_ride_df"
   ],
   "metadata": {
    "collapsed": false,
    "pycharm": {
     "name": "#%%\n"
    }
   }
  },
  {
   "cell_type": "code",
   "execution_count": 21,
   "outputs": [
    {
     "data": {
      "text/plain": "<Figure size 576x576 with 1 Axes>",
      "image/png": "[encoded data removed]"
     },
     "metadata": {
      "needs_background": "light"
     },
     "output_type": "display_data"
    }
   ],
   "source": [
    "stdev = stats.stdev(pyber_ride_df[\"Avg. Fare ($USD)\"])\n",
    "\n",
    "pyber_ride_df.plot(x=\"Month\",\n",
    "                   y=\"Avg. Fare ($USD)\",\n",
    "                   kind='bar',\n",
    "                   yerr=stdev,\n",
    "                   capsize=3,\n",
    "                   figsize=(8,8),\n",
    "                   color='skyblue')\n",
    "\n",
    "plt.yticks(np.arange(0,55, step=5.0))\n",
    "plt.xticks([value for value in np.arange(len(pyber_ride_df))], pyber_ride_df[\"Month\"])\n",
    "\n",
    "plt.show()"
   ],
   "metadata": {
    "collapsed": false,
    "pycharm": {
     "name": "#%%\n"
    }
   }
  },
  {
   "cell_type": "code",
   "execution_count": null,
   "outputs": [],
   "source": [],
   "metadata": {
    "collapsed": false,
    "pycharm": {
     "name": "#%%\n"
    }
   }
  }
 ],
 "metadata": {
  "kernelspec": {
   "name": "pythondata",
   "language": "python",
   "display_name": "PythonData"
  },
  "language_info": {
   "codemirror_mode": {
    "name": "ipython",
    "version": 2
   },
   "file_extension": ".py",
   "mimetype": "text/x-python",
   "name": "python",
   "nbconvert_exporter": "python",
   "pygments_lexer": "ipython2",
   "version": "2.7.6"
  }
 },
 "nbformat": 4,
 "nbformat_minor": 0
}